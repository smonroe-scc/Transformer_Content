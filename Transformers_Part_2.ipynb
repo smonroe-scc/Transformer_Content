{
 "cells": [
  {
   "cell_type": "markdown",
   "metadata": {},
   "source": [
    "# Transformers Part 2."
   ]
  },
  {
   "cell_type": "markdown",
   "metadata": {},
   "source": [
    "## Forms of loss in the transformer core"
   ]
  },
  {
   "cell_type": "markdown",
   "metadata": {},
   "source": [
    "### Hysteresis"
   ]
  },
  {
   "cell_type": "markdown",
   "metadata": {},
   "source": [
    "![transformer](T01.jpg)"
   ]
  },
  {
   "cell_type": "markdown",
   "metadata": {},
   "source": [
    "Consider a ring of ferromagnetic material with circumference $L$ meters, cross - sectional area, $a$ in $m^2$ and $N$ turns of insulated wire as shown in the picture above., Consider, the current flowing through the coil is $I$ Amperes,\n",
    "Magnetizing force is,"
   ]
  },
  {
   "cell_type": "markdown",
   "metadata": {},
   "source": [
    "$$\\vec{H}=\\frac{N \\cdot I}{L}$$"
   ]
  },
  {
   "cell_type": "markdown",
   "metadata": {},
   "source": [
    "The unit for $\\vec{H}$ is in $$\\frac{Ampere \\cdot turns}{meter}$$"
   ]
  },
  {
   "cell_type": "markdown",
   "metadata": {},
   "source": [
    "This is because when the generated fields pass through magnetic materials which themselves contribute internal magnetic fields, ambiguities can arise about what part of the field comes from the external currents and what comes from the material itself. It has been common practice to define another magnetic field quantity, usually called the \"magnetic field strength\" designated by $\\vec{H}$."
   ]
  },
  {
   "cell_type": "markdown",
   "metadata": {},
   "source": [
    "The field that is generated due to current is called the \"magnetic field\", designated by $\\vec{B}.$"
   ]
  },
  {
   "cell_type": "markdown",
   "metadata": {},
   "source": [
    "Recall that we discussed Rowland's Law as being analagous to Ohm's law, except that it applied to Magnetics:<br>"
   ]
  },
  {
   "cell_type": "markdown",
   "metadata": {},
   "source": [
    "$$\\mathcal{F}=\\phi \\cdot \\mathcal{R}$$ where $$\\mathcal{R}=\\frac{l}{\\mu_0 \\mu_R \\cdot A}$$"
   ]
  },
  {
   "cell_type": "markdown",
   "metadata": {},
   "source": [
    "$l$ is the length of the magnetic circuit in $m$, $\\mu_0$ is the permeability of the vacuum, $\\mu_R$ is the relative permeability of the material, and $A$ is the cross sectional area in $m^2$"
   ]
  },
  {
   "cell_type": "markdown",
   "metadata": {},
   "source": [
    "$\\vec{B}$ is the density of the resulting magnetic flux $(\\phi)$ field formed around the wire by that magnetomotive force $\\mathcal{F}$, and is analogous to the electrical current \"I\" in Ohms Law. The \"magnetic resistance\" is called \"Reluctance\" and the unit is $H^{-1}$"
   ]
  },
  {
   "cell_type": "markdown",
   "metadata": {},
   "source": [
    "Note that the magnetic flux $\\phi$ is measured in Webers, and magnetic field density, $\\vec{B}$ is measured in $\\frac{Wb}{m^2}$ or Tesla."
   ]
  },
  {
   "cell_type": "markdown",
   "metadata": {},
   "source": [
    "With this in mind consider, Therefore, total flux through the ring, $\\phi = \\vec{B} \\times a$ Wb As the current flowing through the ring is alternating, the flux produced in the iron ring is also alternating in nature, so the emf $(e′)$ induced will be expressed as,"
   ]
  },
  {
   "cell_type": "markdown",
   "metadata": {},
   "source": [
    "$$e'=-N \\cdot \\frac{d \\phi}{dt}=\\frac{d(B_a)}{dt}=-N_a \\frac{dB}{dt}$$"
   ]
  },
  {
   "cell_type": "markdown",
   "metadata": {},
   "source": [
    "According to Lenz,s law this induced emf will oppose the flow of current, therefore, in order to maintain the current $I$ in the coil, the source must supply an equal and opposite emf. Therefore applied emf,"
   ]
  },
  {
   "cell_type": "markdown",
   "metadata": {},
   "source": [
    "$$e'=N_a \\frac{dB}{dt}$$"
   ]
  },
  {
   "cell_type": "markdown",
   "metadata": {},
   "source": [
    "Producing,"
   ]
  },
  {
   "cell_type": "markdown",
   "metadata": {},
   "source": [
    "![BH loop](T02.jpg)"
   ]
  },
  {
   "cell_type": "markdown",
   "metadata": {},
   "source": [
    "Physical description of hysteresis: The magnetic core of a transformer is made of Steel, Iron, or some other magnetically permeable material. Steel is very good ferromagnetic material.<br><br> These kinds of materials are highly permeable to magnetic field lines.<br><br> That means that whenever magnetic flux passes through steel, it will behave like a magnet. Ferromagnetic substances have numbers of domains in their structure.<br><br> Domains are very small regions in the material structure where all the dipoles are parallel and in the same direction.<br><br> In other words, the domains are like small permanent magnets situated randomly in the structure of the material. These domains are arranged inside the material structure in such a random manner, that net resultant magnetic field of the material is zero.<br><br> Whenever external magnetic field or a magnetomotive force is applied to that substance, these randomly directed domains get arranged in parallel along the axis of applied magnetomotive force. After removing the external mmf, large numbers of domains relax to random positions, but some of them still remain in their changed position.<br><br> Because of these unchanged domains, the substance becomes slightly magnetized permanently.<br><br> This magnetism is called \"Retentivity\". To neutralize this magnetism, some opposite magnetomotive force is required.<br><br> The magnetomotive force is applied in the transformer core is alternating. For every cycle due to this domain reversal, there will be extra work done. For this reason, there will be a consumption of electrical energy which is known as Hysteresis loss of transformer."
   ]
  },
  {
   "cell_type": "markdown",
   "metadata": {},
   "source": [
    "A full Hysteresis loop is shown below: "
   ]
  },
  {
   "cell_type": "markdown",
   "metadata": {},
   "source": [
    "![full BH loop](T03.jpg)"
   ]
  },
  {
   "cell_type": "markdown",
   "metadata": {},
   "source": [
    "The total work done or energy consumed during one complete cycle of magnetism is<br><br>, $$ W=aL \\intop\\nolimits_{0}^{B_{MAX}} \\vec{H} \\cdot dB$$"
   ]
  },
  {
   "cell_type": "markdown",
   "metadata": {},
   "source": [
    "Keep in mind that the entire area inside the B-H curve is $$\\intop\\nolimits_{B_{MIN}}^{B_{MAX}} \\vec{H} \\cdot dB$$"
   ]
  },
  {
   "cell_type": "markdown",
   "metadata": {},
   "source": [
    "Therefore, Energy (Work) consumed per cycle = volume of the transformer core × area of hysteresis loop.\n",
    "Hence, the work done is nothing but the electrical energy loss in transformer core."
   ]
  },
  {
   "cell_type": "markdown",
   "metadata": {},
   "source": [
    "### Eddy Currents"
   ]
  },
  {
   "cell_type": "markdown",
   "metadata": {},
   "source": [
    "In a transformer, we supply alternating current to the primary. This alternating current produces alternating magnetizing flux in the core and as this flux links with secondary winding.<br><br> there will be an induced voltage in the secondary, resulting in current flow through the load.<br><br> Some of the alternating flux in the transformer may also link with other conducive parts like the core or the transformer frame.<br><br> As alternating flux links with these parts of transformer, there will be a locally induced Voltage. Due to this voltage, there will be current which will circulate locally at portion of the transformer.<br><br> These circulating currents will not contribute in output of the transformer and are dissipated as heat.<br> This type of energy loss is called eddy current loss."
   ]
  },
  {
   "cell_type": "markdown",
   "metadata": {},
   "source": [
    "If $$\\frac{d\\vec{B}}{dt} > 0$$"
   ]
  },
  {
   "cell_type": "markdown",
   "metadata": {},
   "source": [
    "A changing electric field $\\vec{E}$ is produced, which will produce current flow, and thus a local current in the anticlockwise direction. However, there may also be the condition, "
   ]
  },
  {
   "cell_type": "markdown",
   "metadata": {},
   "source": [
    "If $$\\frac{d\\vec{B}}{dt} < 0$$ <br>locally which produces a changing electric field $-\\vec{E}$ and therefore a clockwise current."
   ]
  },
  {
   "cell_type": "markdown",
   "metadata": {},
   "source": [
    "These currents are locally in opposition to one another and creat a net loss when added algebraically.  Hundreds of these sites in opposition to one another may be present in the core and will produce heat loss due to the fact that no work is being done in the load from these currents.  A method to minimize eddy currents is to laminate the core."
   ]
  },
  {
   "cell_type": "markdown",
   "metadata": {},
   "source": [
    "Given the foregoing loss mechanicsms, we can now develop a model for the transformer which includes hysteresis and eddy current loss:"
   ]
  },
  {
   "cell_type": "markdown",
   "metadata": {},
   "source": [
    "![Transformer model](T04.jpg)"
   ]
  },
  {
   "cell_type": "markdown",
   "metadata": {},
   "source": [
    "### Load Loss"
   ]
  },
  {
   "cell_type": "markdown",
   "metadata": {},
   "source": [
    "The term load losses represents the losses in the transformer that result from the flow of load current in the windings.  It comprises the dc resistance losses, eddy current loss, and stray loss in the windings and elsewhere in the transformer itself. Resistance loss(dc resistance loss) are caused by current flowing the the resistance of the conductors and leads.  it is expressed mathematically as<br> $$R=\\rho \\cdot \\frac{l}{A}$$<br>where $\\rho$ represents the resistivity of the winding alloy material, $l$ represents the winding length, and $A$ is the cross sectional area. Units are $m$ and m^2$ respectively."
   ]
  },
  {
   "cell_type": "markdown",
   "metadata": {},
   "source": [
    "Skin effect loss is given by $$\\delta=\\frac{1}{\\sqrt{\\pi f \\mu \\sigma}}$$ and $${\\displaystyle R_{SKIN}\\approx {{L\\rho } \\over {\\pi (D-\\delta )\\delta }}\\approx {{L\\rho } \\over {\\pi D\\delta }}}$$"
   ]
  },
  {
   "cell_type": "markdown",
   "metadata": {},
   "source": [
    "$L$ is conductor length, $\\rho$ is conductor alloy resistivity,  D is conductor diameter and $\\delta$ is skin depth at frequency.  Units are $m$, $\\Omega \\cdot cm$, $m$, and $m$ respectively."
   ]
  },
  {
   "cell_type": "markdown",
   "metadata": {},
   "source": [
    "Total conductor loss in a transformer, including eddy loss and skin-effect are $$R_{AC}=R_{DC}+R_{EDDY}+R_{STRAY}+R_{SKIN}$$"
   ]
  },
  {
   "cell_type": "markdown",
   "metadata": {},
   "source": [
    "Note that $R_{AC}$ is frequency dependent."
   ]
  },
  {
   "cell_type": "markdown",
   "metadata": {},
   "source": [
    "### Reflected Resistance ($Z_{R}$)"
   ]
  },
  {
   "cell_type": "markdown",
   "metadata": {},
   "source": [
    "Reflected resistance can be thought of as the 'equivalent load' you would have to connect across the primary voltage in order to produce the same value of current that would flow in the primary of a transformer due to a load connected to the secondary."
   ]
  },
  {
   "cell_type": "markdown",
   "metadata": {},
   "source": [
    "An example:\n",
    "\n",
    "Suppose you had a 10:1 turns reduction transformer and put 100V on the primary. The output voltage would be 1/10 of 100 i.e. 10 V. If you were to connect a 10 ohm load across the secondary this would produce a secondary current of 1 Amp. (Ohm's law). Assuming the transformer is 100% efficient then the power out must equal the power in. This means the primary current will be 1/10th the secondary current or 0.1 amps. So at the primary side we have 100V and a current of 0.1 amps.\n",
    "\n",
    "If the transformer circuit was replaced by a single equivalent load then by Ohm's law this would be equal to 100V / 0.1A = 1000 ohms. This is the reflected impedance of the 10 ohm load on the secondary."
   ]
  },
  {
   "cell_type": "markdown",
   "metadata": {},
   "source": [
    "In code:"
   ]
  },
  {
   "cell_type": "code",
   "execution_count": 1,
   "metadata": {},
   "outputs": [
    {
     "name": "stdout",
     "output_type": "stream",
     "text": [
      "Z_Ref: 1000.00000 Ω\n"
     ]
    }
   ],
   "source": [
    "n=0.1\n",
    "R_L=10.0\n",
    "RPRI=(1/n)**2*R_L\n",
    "print(\"Z_Ref:\",'{0:.5f}'.format(RPRI),\"\\u03A9\")"
   ]
  },
  {
   "cell_type": "markdown",
   "metadata": {},
   "source": [
    "Note that this calculation assumes that $\\eta=100\\%$"
   ]
  },
  {
   "cell_type": "markdown",
   "metadata": {},
   "source": [
    "Assume the following circuit:"
   ]
  },
  {
   "cell_type": "markdown",
   "metadata": {},
   "source": [
    "![Transformer problem](T05.jpg)"
   ]
  },
  {
   "cell_type": "code",
   "execution_count": 2,
   "metadata": {},
   "outputs": [],
   "source": [
    "eta=0.8\n",
    "Esrc=120.0\n",
    "isec=200.0E-3\n",
    "RLOAD=2400.\n",
    "DC_RES_PRI=6.0\n",
    "DC_RES_SEC=25.0"
   ]
  },
  {
   "cell_type": "code",
   "execution_count": 3,
   "metadata": {},
   "outputs": [],
   "source": [
    "VSEC=RLOAD*isec\n",
    "Psec=isec**2*RLOAD\n",
    "Ppri=Psec/eta\n",
    "ipri=Ppri/Esrc\n",
    "Cu_loss_pri=ipri**2*DC_RES_PRI\n",
    "Cu_loss_sec=isec**2*DC_RES_SEC\n",
    "Core_loss=(Ppri-Psec)-(Cu_loss_pri+Cu_loss_sec)\n",
    "I_mag=(Ppri-Psec)/Esrc"
   ]
  },
  {
   "cell_type": "code",
   "execution_count": 4,
   "metadata": {},
   "outputs": [
    {
     "name": "stdout",
     "output_type": "stream",
     "text": [
      "Vsec: 480.00000 Volts\n",
      "Copper loss secondary: 1.00000 W\n",
      "Ipri: 1.00000 Amperes\n",
      "Total core loss: 17.00000 W\n",
      "Psec: 96.00000 W\n",
      "Ppri: 120.00000 W\n",
      "Copper loss primary: 6.00000 W\n",
      "Magnetization current: 0.20000 Amperes\n"
     ]
    }
   ],
   "source": [
    "print(\"Vsec:\",'{0:.5f}'.format(VSEC),\"Volts\")\n",
    "print(\"Copper loss secondary:\",'{0:.5f}'.format(Cu_loss_sec),\"W\")\n",
    "print(\"Ipri:\",'{0:.5f}'.format(ipri),\"Amperes\")\n",
    "print(\"Total core loss:\",'{0:.5f}'.format(Core_loss),\"W\")\n",
    "print(\"Psec:\",'{0:.5f}'.format(Psec),\"W\")\n",
    "print(\"Ppri:\",'{0:.5f}'.format(Ppri),\"W\")\n",
    "print(\"Copper loss primary:\",'{0:.5f}'.format(Cu_loss_pri),\"W\")\n",
    "print(\"Magnetization current:\",'{0:.5f}'.format(I_mag),\"Amperes\")"
   ]
  }
 ],
 "metadata": {
  "kernelspec": {
   "display_name": "Python 3",
   "language": "python",
   "name": "python3"
  },
  "language_info": {
   "codemirror_mode": {
    "name": "ipython",
    "version": 3
   },
   "file_extension": ".py",
   "mimetype": "text/x-python",
   "name": "python",
   "nbconvert_exporter": "python",
   "pygments_lexer": "ipython3",
   "version": "3.7.4"
  }
 },
 "nbformat": 4,
 "nbformat_minor": 2
}
