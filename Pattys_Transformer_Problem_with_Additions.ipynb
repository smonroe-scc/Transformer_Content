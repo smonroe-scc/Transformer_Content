{
 "cells": [
  {
   "cell_type": "code",
   "execution_count": 1,
   "metadata": {},
   "outputs": [
    {
     "name": "stdout",
     "output_type": "stream",
     "text": [
      "Author        : sm626967\n",
      "Python        : 3.8.3 \n",
      "NumPy         : 1.18.5\n",
      "Encoding      : utf-8\n",
      "Timestamp     : 1743007434.3795936\n"
     ]
    }
   ],
   "source": [
    "from math import cos, sin, tan, acos, asin, atan, atan2, degrees, radians\n",
    "from numpy import reciprocal, pi, sqrt, angle, exp\n",
    "import numpy as np\n",
    "import time, sys, getpass\n",
    "import scipy.constants as sc\n",
    "\n",
    "#hextime=float.hex(time.time())\n",
    "\n",
    "# The foregoing is a clunky way to do this\n",
    "# Haven't spent a lot of time thinking through a more elegant solution\n",
    "# usage: %run py_templates/1_Boilerplate_numeric.py\n",
    "# to run from your root level py directory.\n",
    "\n",
    "def cosd(x):\n",
    "  return cos(radians(x))\n",
    "\n",
    "def sind(x):\n",
    "  return sin(radians(x))\n",
    "\n",
    "def tand(x):\n",
    "  return tan(radians(x))\n",
    "\n",
    "def acosd(x):\n",
    "  return degrees(acos(x))\n",
    "\n",
    "def asind(x):\n",
    "  return degrees(asin(x))\n",
    "\n",
    "def atand(x):\n",
    "  return degrees(atan(x))\n",
    "\n",
    "def atan2d(y, x):\n",
    "  return degrees(atan2(y, x))\n",
    "\n",
    "## Now define conversion functions:\n",
    "\n",
    "def P2R(radii, angles):\n",
    "    return radii * exp(1j*angles*(pi/180))\n",
    "\n",
    "def R2P(x):\n",
    "    return abs(x), angle(x, deg=True)\n",
    "\n",
    "\n",
    "print(\"Author        :\",getpass.getuser())\n",
    "print(\"Python        :\",sys.version[0:6])\n",
    "print(\"NumPy         :\",np.version.version)\n",
    "print(\"Encoding      :\",sys.getdefaultencoding())\n",
    "print(\"Timestamp     :\",time.time())"
   ]
  },
  {
   "cell_type": "markdown",
   "metadata": {},
   "source": [
    "Given Values, and conversion to rectangular coordinates for computational efficiency:"
   ]
  },
  {
   "cell_type": "code",
   "execution_count": 2,
   "metadata": {},
   "outputs": [],
   "source": [
    "#Secondary Voltages first: \n",
    "    \n",
    "VAB_rect=P2R(460.0,0.0)\n",
    "VAC_rect=P2R(460.0,120.0)\n",
    "VBC_rect=P2R(460.0,-120.0)\n",
    "VAB_polar=R2P(VAB_rect)\n",
    "VAC_polar=R2P(VAC_rect)\n",
    "VBC_polar=R2P(VBC_rect)\n",
    "\n",
    "#Seconday Load Impedances next:\n",
    "ZAC_rect=P2R(23.0,30.0)\n",
    "ZBC_rect=P2R(46.0,90.0)\n",
    "ZAB_rect=P2R(31.0,-40.0)"
   ]
  },
  {
   "cell_type": "code",
   "execution_count": 3,
   "metadata": {},
   "outputs": [],
   "source": [
    "#Primary:\n",
    "\n",
    "V_Line=7200.0"
   ]
  },
  {
   "cell_type": "code",
   "execution_count": 4,
   "metadata": {},
   "outputs": [],
   "source": [
    "IAB_rect=VAB_rect/ZAB_rect #Ohm's Law\n",
    "IAC_rect=VAC_rect/ZAC_rect #Ohm's Law\n",
    "IBC_rect=VBC_rect/ZBC_rect #Ohm's Law\n",
    "IAB_polar=R2P(IAB_rect)\n",
    "IAC_polar=R2P(IAC_rect)\n",
    "IBC_polar=R2P(IBC_rect)"
   ]
  },
  {
   "cell_type": "code",
   "execution_count": 10,
   "metadata": {},
   "outputs": [
    {
     "name": "stdout",
     "output_type": "stream",
     "text": [
      "Secondary Phase Current Values:\n",
      "\n",
      "   IAB: 14.83871. Amperes at 40.0. degrees\n",
      "   IAC: 20.00000. Amperes at 90.0. degrees\n",
      "   IBC: 10.00000. Amperes at 150.0. degrees\n",
      "\n",
      "Secondary Line Current Values:\n",
      "\n",
      "   IAB: 25.70140. Amperes at 40.0. degrees\n",
      "   IAC: 34.64102. Amperes at 90.0. degrees\n",
      "   IBC: 17.32051. Amperes at 150.0. degrees\n"
     ]
    }
   ],
   "source": [
    "print(\"Secondary Phase Current Values:\")\n",
    "print()\n",
    "print(\"   IAB:\",'{0:.5f}.'.format(IAB_polar[0]),\"Amperes at\", '{0:.1f}.'.format(IAB_polar[1]),\"degrees\")\n",
    "print(\"   IAC:\",'{0:.5f}.'.format(IAC_polar[0]),\"Amperes at\", '{0:.1f}.'.format(IAC_polar[1]),\"degrees\")\n",
    "print(\"   IBC:\",'{0:.5f}.'.format(IBC_polar[0]),\"Amperes at\", '{0:.1f}.'.format(IBC_polar[1]),\"degrees\")\n",
    "print()\n",
    "print(\"Secondary Line Current Values:\")\n",
    "print()\n",
    "print(\"   IAB:\",'{0:.5f}.'.format(IAB_polar[0]*np.sqrt(3.0)),\"Amperes at\", '{0:.1f}.'.format(IAB_polar[1]),\"degrees\")\n",
    "print(\"   IAC:\",'{0:.5f}.'.format(IAC_polar[0]*np.sqrt(3.0)),\"Amperes at\", '{0:.1f}.'.format(IAC_polar[1]),\"degrees\")\n",
    "print(\"   IBC:\",'{0:.5f}.'.format(IBC_polar[0]*np.sqrt(3.0)),\"Amperes at\", '{0:.1f}.'.format(IBC_polar[1]),\"degrees\")\n"
   ]
  },
  {
   "cell_type": "markdown",
   "metadata": {},
   "source": [
    "Calculate Turns Ratio:"
   ]
  },
  {
   "cell_type": "code",
   "execution_count": 6,
   "metadata": {},
   "outputs": [
    {
     "name": "stdout",
     "output_type": "stream",
     "text": [
      "Turns Ratio: 15.652173913043478\n"
     ]
    }
   ],
   "source": [
    "Turns_Ratio=V_Line/VAB_polar[0]\n",
    "print(\"Turns Ratio:\",Turns_Ratio)"
   ]
  },
  {
   "cell_type": "code",
   "execution_count": 7,
   "metadata": {},
   "outputs": [],
   "source": [
    "IA=IAB_rect/Turns_Ratio\n",
    "IB=IBC_rect/Turns_Ratio\n",
    "IC=IAC_rect/Turns_Ratio\n",
    "IA_polar=(R2P(IA))\n",
    "IB_polar=(R2P(IB))\n",
    "IC_polar=(R2P(IC))"
   ]
  },
  {
   "cell_type": "markdown",
   "metadata": {},
   "source": [
    "Primary Currents:"
   ]
  },
  {
   "cell_type": "code",
   "execution_count": 8,
   "metadata": {},
   "outputs": [
    {
     "name": "stdout",
     "output_type": "stream",
     "text": [
      "Primary Current Values:\n",
      "\n",
      "   IA: 0.94803 Amperes at 40.0. degrees\n",
      "   IB: 0.63889 Amperes at 150.0. degrees\n",
      "   IC: 1.27778 Amperes at 90.0. degrees\n"
     ]
    }
   ],
   "source": [
    "print(\"Primary Current Values:\")\n",
    "print()\n",
    "print(\"   IA:\",'{0:.5f}'.format(IA_polar[0]),\"Amperes at\", '{0:.1f}.'.format(IA_polar[1]),\"degrees\")\n",
    "print(\"   IB:\",'{0:.5f}'.format(IB_polar[0]),\"Amperes at\", '{0:.1f}.'.format(IB_polar[1]),\"degrees\")\n",
    "print(\"   IC:\",'{0:.5f}'.format(IC_polar[0]),\"Amperes at\", '{0:.1f}.'.format(IC_polar[1]),\"degrees\")"
   ]
  }
 ],
 "metadata": {
  "kernelspec": {
   "display_name": "Python 3",
   "language": "python",
   "name": "python3"
  },
  "language_info": {
   "codemirror_mode": {
    "name": "ipython",
    "version": 3
   },
   "file_extension": ".py",
   "mimetype": "text/x-python",
   "name": "python",
   "nbconvert_exporter": "python",
   "pygments_lexer": "ipython3",
   "version": "3.8.3"
  }
 },
 "nbformat": 4,
 "nbformat_minor": 4
}
